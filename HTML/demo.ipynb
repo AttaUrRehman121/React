{
 "cells": [
  {
   "cell_type": "code",
   "execution_count": 2,
   "metadata": {},
   "outputs": [
    {
     "name": "stdout",
     "output_type": "stream",
     "text": [
      "mars\n",
      "earth\n"
     ]
    }
   ],
   "source": [
    "p1 = 'earth'\n",
    "p2 = 'mars'\n",
    "\n",
    "p2 , p1  = p1, p2 \n",
    "print(p1)\n",
    "print(p2)"
   ]
  },
  {
   "cell_type": "code",
   "execution_count": null,
   "metadata": {},
   "outputs": [
    {
     "ename": "",
     "evalue": "",
     "output_type": "error",
     "traceback": [
      "\u001b[1;31mRunning cells with 'Python -1.-1.-1' requires the ipykernel package.\n",
      "\u001b[1;31mRun the following command to install 'ipykernel' into the Python environment. \n",
      "\u001b[1;31mCommand: 'f:/React/.venv/Scripts/python.exe -m pip install ipykernel -U --user --force-reinstall'"
     ]
    }
   ],
   "source": [
    "import numpy as np \n",
    "from sklearn.model_selection import train_test_split\n",
    "from sklearn.linear_model import LogisticRegression\n",
    "from sklearn.metrics import accuracy_score, classification_report\n",
    "\n",
    "# Example dataset with features: [blood_type_match, hla_match, organ_size_difference, donor_age, recipient_age]\n",
    "# 1 indicates a match, and 0 indicates no match.\n",
    "# Labels: 1 for compatible, 0 for not compatible.\n",
    "data = np.array([\n",
    "    [1, 1, 0.1, 45, 50, 1],  # Compatible\n",
    "    [1, 0, 0.3, 35, 40, 0],  # Not compatible\n",
    "    [0, 1, 0.2, 55, 60, 0],  # Not compatible\n",
    "    [1, 1, 0.05, 30, 32, 1], # Compatible\n",
    "    [0, 0, 0.4, 60, 65, 0],  # Not compatible\n",
    "    [1, 1, 0.15, 40, 45, 1], # Compatible\n",
    "])\n",
    "\n",
    "# Split the dataset into features and labels\n",
    "X = data[:, :-1]  # Features: [blood_type_match, hla_match, organ_size_difference, donor_age, recipient_age]\n",
    "y = data[:, -1]   # Labels: Compatibility (1 or 0)\n",
    "\n",
    "# Split data into training and testing sets\n",
    "X_train, X_test, y_train, y_test = train_test_split(X, y, test_size=0.3, random_state=42)\n",
    "\n",
    "# Create and train the logistic regression model\n",
    "model = LogisticRegression()\n",
    "model.fit(X_train, y_train)\n",
    "\n",
    "# Predict compatibility for the test set\n",
    "y_pred = model.predict(X_test)\n",
    "\n",
    "# Evaluate the model\n",
    "print(f'Accuracy: {accuracy_score(y_test, y_pred)}')\n",
    "print(classification_report(y_test, y_pred))\n",
    "\n",
    "# Example: Checking compatibility for a new donor-recipient pair\n",
    "new_case = np.array([[1, 1, 0.08, 46, 49]])  # Example features for a new case\n",
    "prediction = model.predict(new_case)\n",
    "\n",
    "if prediction[0] == 1:\n",
    "    print(\"The organ is compatible with the recipient.\")\n",
    "else:\n",
    "    print(\"The organ is not compatible with the recipient.\")\n",
    "\n",
    "\n"
   ]
  },
  {
   "cell_type": "code",
   "execution_count": 3,
   "metadata": {},
   "outputs": [
    {
     "name": "stdout",
     "output_type": "stream",
     "text": [
      "your Name Is  atta\n"
     ]
    }
   ],
   "source": [
    "name = input(\"enter your name!\")\n",
    "print( \"your Name Is \", name)\n"
   ]
  }
 ],
 "metadata": {
  "kernelspec": {
   "display_name": "Python 3",
   "language": "python",
   "name": "python3"
  },
  "language_info": {
   "codemirror_mode": {
    "name": "ipython",
    "version": 3
   },
   "file_extension": ".py",
   "mimetype": "text/x-python",
   "name": "python",
   "nbconvert_exporter": "python",
   "pygments_lexer": "ipython3",
   "version": "3.12.5"
  }
 },
 "nbformat": 4,
 "nbformat_minor": 2
}
